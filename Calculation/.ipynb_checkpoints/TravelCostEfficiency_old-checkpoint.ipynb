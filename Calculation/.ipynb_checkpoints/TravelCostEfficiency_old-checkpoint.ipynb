{
 "cells": [
  {
   "cell_type": "code",
   "execution_count": 9,
   "metadata": {},
   "outputs": [
    {
     "name": "stdout",
     "output_type": "stream",
     "text": [
      "Collecting ijson\n",
      "  Downloading https://files.pythonhosted.org/packages/bb/f9/9dd57fe468e033610b979adcb45b159b76309ea4df63f70a10cfb75d71ae/ijson-2.5.1.tar.gz\n",
      "Building wheels for collected packages: ijson\n",
      "  Building wheel for ijson (setup.py): started\n",
      "  Building wheel for ijson (setup.py): finished with status 'done'\n",
      "  Stored in directory: C:\\Users\\haomingyang\\AppData\\Local\\pip\\Cache\\wheels\\4d\\d1\\00\\97c35b66b6b59081fe7f90f4a4dc30673ebd8af70382238b95\n",
      "Successfully built ijson\n",
      "Installing collected packages: ijson\n",
      "Successfully installed ijson-2.5.1\n"
     ]
    }
   ],
   "source": [
    "# install library from Jupyter\n",
    "# import sys\n",
    "# !{sys.executable} -m pip install ijson"
   ]
  },
  {
   "cell_type": "code",
   "execution_count": 18,
   "metadata": {},
   "outputs": [],
   "source": [
    "import json\n",
    "import pandas as pd\n",
    "#import ijson"
   ]
  },
  {
   "cell_type": "code",
   "execution_count": 3,
   "metadata": {},
   "outputs": [],
   "source": [
    "# load json file to python object \n",
    "with open('data_file.json') as f:\n",
    "    data = json.load(f)"
   ]
  },
  {
   "cell_type": "code",
   "execution_count": 4,
   "metadata": {},
   "outputs": [
    {
     "name": "stdout",
     "output_type": "stream",
     "text": [
      "dict_keys(['nodes', 'links', 'networks'])\n"
     ]
    }
   ],
   "source": [
    "# print out the first level key\n",
    "print(data.keys())"
   ]
  },
  {
   "cell_type": "code",
   "execution_count": 5,
   "metadata": {},
   "outputs": [
    {
     "data": {
      "text/plain": [
       "{'nodes': {'1': {'id': '1', 'type': '2', 'x': 500.0, 'y': 5100.0},\n",
       "  '2': {'id': '2', 'type': '2', 'x': 3200.0, 'y': 5100.0},\n",
       "  '3': {'id': '3', 'type': '2', 'x': 500.0, 'y': 4400.0},\n",
       "  '4': {'id': '4', 'type': '2', 'x': 1300.0, 'y': 4400.0},\n",
       "  '5': {'id': '5', 'type': '2', 'x': 2200.0, 'y': 4400.0},\n",
       "  '6': {'id': '6', 'type': '2', 'x': 3200.0, 'y': 4400.0},\n",
       "  '7': {'id': '7', 'type': '2', 'x': 4200.0, 'y': 3800.0},\n",
       "  '8': {'id': '8', 'type': '2', 'x': 3200.0, 'y': 3800.0},\n",
       "  '9': {'id': '9', 'type': '2', 'x': 2200.0, 'y': 3800.0},\n",
       "  '10': {'id': '10', 'type': '2', 'x': 2200.0, 'y': 3200.0},\n",
       "  '11': {'id': '11', 'type': '2', 'x': 1300.0, 'y': 3200.0},\n",
       "  '12': {'id': '12', 'type': '2', 'x': 500.0, 'y': 3200.0},\n",
       "  '13': {'id': '13', 'type': '2', 'x': 500.0, 'y': 500.0},\n",
       "  '14': {'id': '14', 'type': '2', 'x': 1300.0, 'y': 1900.0},\n",
       "  '15': {'id': '15', 'type': '2', 'x': 2200.0, 'y': 1900.0},\n",
       "  '16': {'id': '16', 'type': '2', 'x': 3200.0, 'y': 3200.0},\n",
       "  '17': {'id': '17', 'type': '2', 'x': 3200.0, 'y': 2600.0},\n",
       "  '18': {'id': '18', 'type': '2', 'x': 4200.0, 'y': 3200.0},\n",
       "  '19': {'id': '19', 'type': '2', 'x': 3200.0, 'y': 1900.0},\n",
       "  '20': {'id': '20', 'type': '2', 'x': 3200.0, 'y': 500.0},\n",
       "  '21': {'id': '21', 'type': '2', 'x': 2200.0, 'y': 500.0},\n",
       "  '22': {'id': '22', 'type': '2', 'x': 2200.0, 'y': 1300.0},\n",
       "  '23': {'id': '23', 'type': '2', 'x': 1300.0, 'y': 1300.0},\n",
       "  '24': {'id': '24', 'type': '2', 'x': 1300.0, 'y': 500.0}}}"
      ]
     },
     "execution_count": 5,
     "metadata": {},
     "output_type": "execute_result"
    }
   ],
   "source": [
    "# print the first items in the data (items分别为nodes, links 和 networks)\n",
    "dict(list(data.items())[0:1])"
   ]
  },
  {
   "cell_type": "code",
   "execution_count": 6,
   "metadata": {},
   "outputs": [
    {
     "name": "stdout",
     "output_type": "stream",
     "text": [
      "{'id': '1', 'type': '2', 'node1_id': '1', 'node2_id': '2', 'lengthInKm': 2.7}\n",
      "{'id': '2', 'type': '2', 'node1_id': '1', 'node2_id': '3', 'lengthInKm': 0.7}\n",
      "{'id': '3', 'type': '2', 'node1_id': '2', 'node2_id': '1', 'lengthInKm': 2.7}\n",
      "{'id': '4', 'type': '2', 'node1_id': '2', 'node2_id': '6', 'lengthInKm': 0.7}\n",
      "{'id': '5', 'type': '2', 'node1_id': '3', 'node2_id': '1', 'lengthInKm': 0.7}\n",
      "{'id': '6', 'type': '2', 'node1_id': '3', 'node2_id': '4', 'lengthInKm': 0.8}\n"
     ]
    }
   ],
   "source": [
    "# access items within 'links' key\n",
    "# 在data中的三个一级key中，print出每一个link中的items\n",
    "i = 0\n",
    "for item in data['links']:\n",
    "    print(data['links'][item])\n",
    "    i = i+1\n",
    "    if i>5:\n",
    "        break"
   ]
  },
  {
   "cell_type": "code",
   "execution_count": 7,
   "metadata": {},
   "outputs": [
    {
     "name": "stdout",
     "output_type": "stream",
     "text": [
      "item: 1\n",
      "{'id': '1', 'type': '2', 'x': 500.0, 'y': 5100.0}\n",
      "item: 2\n",
      "{'id': '2', 'type': '2', 'x': 3200.0, 'y': 5100.0}\n",
      "item: 3\n",
      "{'id': '3', 'type': '2', 'x': 500.0, 'y': 4400.0}\n",
      "item: 4\n",
      "{'id': '4', 'type': '2', 'x': 1300.0, 'y': 4400.0}\n",
      "item: 5\n",
      "{'id': '5', 'type': '2', 'x': 2200.0, 'y': 4400.0}\n",
      "item: 6\n",
      "{'id': '6', 'type': '2', 'x': 3200.0, 'y': 4400.0}\n"
     ]
    }
   ],
   "source": [
    "# access items with in 'nodes' key\n",
    "i = 0\n",
    "for item in data['nodes']:\n",
    "    print('item:',item)\n",
    "    print(data['nodes'][item])\n",
    "    i = i+1\n",
    "    if i>5:\n",
    "        break"
   ]
  },
  {
   "cell_type": "code",
   "execution_count": 8,
   "metadata": {},
   "outputs": [
    {
     "name": "stdout",
     "output_type": "stream",
     "text": [
      "dict_keys(['ts', 'lanes', 'vehicles', 'endVehicles'])\n"
     ]
    }
   ],
   "source": [
    "i = 0\n",
    "# data['networks']的数据类型为list，因此item为list每个格子中的item，item的格式为dictionary。\n",
    "# 并且，networks中储存了全部networks的数据。\n",
    "for item in data['networks']:\n",
    "    print(item.keys())\n",
    "    i = i+1\n",
    "    if i>0:\n",
    "        break"
   ]
  },
  {
   "cell_type": "code",
   "execution_count": 9,
   "metadata": {},
   "outputs": [
    {
     "data": {
      "text/plain": [
       "1001"
      ]
     },
     "execution_count": 9,
     "metadata": {},
     "output_type": "execute_result"
    }
   ],
   "source": [
    "#networks是一个list，list中的每一个格代表一个时间戳，每一个时间戳下，储存了ts、lanes、vehicles和endVehciels的数据\n",
    "len(data['networks'])"
   ]
  },
  {
   "cell_type": "code",
   "execution_count": 10,
   "metadata": {},
   "outputs": [
    {
     "name": "stdout",
     "output_type": "stream",
     "text": [
      "1546293600.0\n",
      "1546293600.0\n",
      "1546293600.0\n",
      "1546293600.0\n",
      "1546293600.0\n",
      "1546293600.0\n"
     ]
    }
   ],
   "source": [
    "# access items with in 'networks': key 1: 'ts'\n",
    "i = 0\n",
    "for item in data['networks']:\n",
    "    print(data['networks'][0]['ts'])\n",
    "    i = i+1\n",
    "    if i>5:\n",
    "        break"
   ]
  },
  {
   "cell_type": "code",
   "execution_count": 11,
   "metadata": {},
   "outputs": [
    {
     "name": "stdout",
     "output_type": "stream",
     "text": [
      "{'id': '1', 'type': '0', 'link_id': '1', 'freeSpeed': 40, 'freeTravelTime': '0.1', 'fixedCharge': '0.1', 'speed': 40.0, 'countPcu': 0, 'density': 0.0, 'travelTime': 243.0, 'charge': 0.1}\n"
     ]
    }
   ],
   "source": [
    "# access items with in 'networks': key 2: 'lanes'\n",
    "i = 0\n",
    "for item in data['networks']:\n",
    "    print(data['networks'][0]['lanes']['1'])\n",
    "    i = i+1\n",
    "    if i>0:\n",
    "        break"
   ]
  },
  {
   "cell_type": "code",
   "execution_count": 12,
   "metadata": {},
   "outputs": [
    {
     "name": "stdout",
     "output_type": "stream",
     "text": [
      "{'id': 1, 'type': 'car', 'driverType': 0, 'maxSpeed': 79, 'valueTime': 37.6105081237937, 'probLaneChange': 0.3, 'startTs': 1546293601.0, 'nodeOrigin_id': '12', 'nodeDest_id': '1', 'finishTs': None, 'laneType': '0', 'currentLane_id': '35', 'currentLaneProgress': 0.007050228992433295, 'timeBudget': 171.0, 'changeLane': 0}\n"
     ]
    }
   ],
   "source": [
    "# access items with in 'networks': key 3: 'vehicles'\n",
    "i = 0\n",
    "for item in data['networks']:\n",
    "    print(data['networks'][1]['vehicles']['1'])\n",
    "    i = i+1\n",
    "    if i>0:\n",
    "        break"
   ]
  },
  {
   "cell_type": "code",
   "execution_count": 13,
   "metadata": {},
   "outputs": [
    {
     "name": "stdout",
     "output_type": "stream",
     "text": [
      "{'id': 1, 'type': 'car', 'driverType': 0, 'maxSpeed': 79, 'valueTime': 37.6105081237937, 'probLaneChange': 0.3, 'startTs': 1546293601.0, 'nodeOrigin_id': '12', 'nodeDest_id': '1', 'finishTs': 1546293810.0, 'laneType': '0', 'currentLane_id': None, 'currentLaneProgress': None, 'timeBudget': 0.0, 'changeLane': 0}\n"
     ]
    }
   ],
   "source": [
    "# access items with in 'networks': key 4: 'endVehicles'\n",
    "#endVehicles代表在某时间戳时，已经完成车辆。\n",
    "i = 0\n",
    "for item in data['networks']:\n",
    "    print(data['networks'][400]['endVehicles']['1'])\n",
    "    i = i+1\n",
    "    if i>0:\n",
    "        break"
   ]
  },
  {
   "cell_type": "markdown",
   "metadata": {},
   "source": [
    "### 计算travel cost = travelTime * valueTime"
   ]
  },
  {
   "cell_type": "code",
   "execution_count": 14,
   "metadata": {},
   "outputs": [
    {
     "data": {
      "text/plain": [
       "1001"
      ]
     },
     "execution_count": 14,
     "metadata": {},
     "output_type": "execute_result"
    }
   ],
   "source": [
    "len(data['networks'])"
   ]
  },
  {
   "cell_type": "code",
   "execution_count": 15,
   "metadata": {},
   "outputs": [],
   "source": [
    "#存储networks中最后一组数据，提取endVehicles，将在最后一帧时间戳中，已经结束的车辆，存入EndCars中。\n",
    "EndCars = data['networks'][-1]['endVehicles']"
   ]
  },
  {
   "cell_type": "code",
   "execution_count": 16,
   "metadata": {},
   "outputs": [
    {
     "name": "stdout",
     "output_type": "stream",
     "text": [
      "1 -> {'id': 1, 'type': 'car', 'driverType': 0, 'maxSpeed': 79, 'valueTime': 37.6105081237937, 'probLaneChange': 0.3, 'startTs': 1546293601.0, 'nodeOrigin_id': '12', 'nodeDest_id': '1', 'finishTs': 1546293810.0, 'laneType': '0', 'currentLane_id': None, 'currentLaneProgress': None, 'timeBudget': 0.0, 'changeLane': 0}\n",
      "value time:  37.6105081237937 travel time: 209.0\n",
      "Travel Cost:  7860.596197872884\n",
      "2 -> {'id': 2, 'type': 'car', 'driverType': 0, 'maxSpeed': 77, 'valueTime': 44.65628991427984, 'probLaneChange': 0.1, 'startTs': 1546293601.0, 'nodeOrigin_id': '12', 'nodeDest_id': '1', 'finishTs': 1546293810.0, 'laneType': '0', 'currentLane_id': None, 'currentLaneProgress': None, 'timeBudget': 0.0, 'changeLane': 0}\n",
      "value time:  44.65628991427984 travel time: 209.0\n",
      "Travel Cost:  9333.164592084486\n",
      "{1: 7860.596197872884, 2: 9333.164592084486}\n"
     ]
    }
   ],
   "source": [
    "# 计算travel cost 并存入 dictionary中 （例）\n",
    "i = 0\n",
    "TravelCost = {}\n",
    "for key, value in EndCars.items():\n",
    "    print(key, '->', value)\n",
    "    print(\"value time: \", value['valueTime'], \"travel time:\", value['finishTs']-value['startTs'])\n",
    "    print(\"Travel Cost: \", value['valueTime'] * (value['finishTs']-value['startTs']))\n",
    "    TravelCost[value['id']] = value['valueTime'] * (value['finishTs']-value['startTs'])\n",
    "    i = i + 1\n",
    "    if i > 1 :\n",
    "        break\n",
    "print(TravelCost)"
   ]
  },
  {
   "cell_type": "code",
   "execution_count": 17,
   "metadata": {},
   "outputs": [
    {
     "name": "stdout",
     "output_type": "stream",
     "text": [
      "498\n",
      "{1: 7860.596197872884, 2: 9333.164592084486, 3: 11908.430688457716, 4: 8481.059128370218, 5: 8672.791758064683, 6: 9040.298744833042, 7: 12739.81977950877, 8: 9469.927426875425, 9: 8155.722708891279, 10: 11751.061851864668, 11: 14101.356152471886, 12: 8542.321973993277, 13: 12652.315393453824, 14: 12984.073565484165, 15: 20414.839309335348, 16: 22553.5308096696, 17: 15197.039309167476, 18: 22874.480144005647, 19: 18507.392855974344, 20: 19179.01804382119, 21: 14434.16906191689, 22: 19231.741118058446, 23: 21051.200140823606, 24: 20357.37728575855, 25: 15970.795468495138, 26: 17942.750885103844, 27: 9750.399864586514, 28: 8958.718681248587, 29: 7446.5107885585985, 30: 12824.964421501909, 31: 8165.31783315256, 32: 10739.713887716302, 33: 11171.817558143981, 34: 12778.08812602235, 35: 9260.692171664447, 36: 12973.609821325725, 37: 11709.893033503697, 38: 12064.904645990693, 39: 11259.627067867314, 40: 12799.073986885032, 41: 11081.445935452379, 42: 10711.992668811892, 43: 11410.223407943498, 44: 7842.119506862366, 45: 11225.856164719546, 46: 15134.515778102497, 47: 10397.898588123762, 48: 11355.327588917871, 49: 13026.004569997, 50: 15080.920534788485, 51: 14679.173065910238, 52: 10511.759928914047, 53: 14127.12351873386, 54: 12939.090632720056, 55: 11137.078394157463, 56: 13811.297548577737, 57: 11329.804320639605, 58: 11514.686996917251, 59: 18398.09078645259, 60: 15337.707659502019, 61: 13353.78002326295, 62: 12697.210022838664, 63: 17874.00390967662, 64: 19360.881657032045, 65: 15196.71676590896, 66: 19023.542459823522, 67: 12215.276980939574, 68: 16207.009765514107, 69: 18187.339093124425, 70: 13695.920625322027, 71: 17469.31692401211, 72: 18859.770780717987, 73: 20065.17466614267, 74: 16711.298633471943, 75: 18903.975593543688, 76: 20626.902539984327, 77: 14163.671878979245, 78: 21382.19120132851, 79: 18492.522281158363, 80: 11835.461154786966, 81: 26588.367518413, 82: 23855.61631987, 83: 28531.396243270447, 84: 14741.714647127032, 85: 18035.781896025168, 86: 19826.172247020913, 87: 30092.528720249495, 88: 28885.547012363266, 89: 27430.54417757446, 90: 29797.086745701366, 91: 32689.418632153272, 92: 27546.653619444405, 93: 35696.00574279205, 94: 26721.113465162685, 95: 24932.684797280697, 96: 25647.619603540683, 97: 36190.05395461002, 98: 36262.5177259749, 99: 30501.483459389376, 100: 34454.67657948036, 101: 27001.533832657304, 102: 36296.09515524262, 103: 35346.38219441112, 104: 20732.454945383783, 105: 31192.829388120954, 106: 28986.623513746417, 107: 21080.741610226123, 108: 18536.047314741478, 109: 22049.933402390132, 110: 16854.100448790676, 111: 16726.44764784856, 112: 18958.62049600165, 113: 25569.207301166323, 114: 21179.20103933567, 115: 23109.804609025683, 116: 24109.61050478136, 117: 24706.459317559806, 118: 22534.194225250678, 119: 23282.11998307444, 120: 21616.541111446615, 121: 19890.731475854205, 122: 27987.563219131353, 123: 32313.47741302818, 124: 38475.44811740506, 125: 23841.758513623055, 126: 33308.86604351858, 127: 28950.32587985261, 128: 23983.565338151086, 129: 29372.188139799233, 130: 31990.305716635245, 131: 25376.751065608154, 132: 27672.25618823629, 133: 26217.699988595567, 134: 23341.047298494563, 135: 32639.2605073829, 136: 26575.14886733249, 137: 26334.160474264085, 138: 24063.07683570288, 139: 30460.63450185113, 140: 26347.910787182558, 141: 25222.444502127317, 142: 24155.935594040977, 143: 30455.611267794156, 144: 28585.184896785246, 145: 33248.72348077839, 146: 33011.25838234947, 147: 20377.78212464947, 148: 36653.49827995542, 149: 28555.0847516647, 150: 28514.533781700095, 151: 28362.250004556652, 152: 26066.446054045882, 153: 28510.485903701017, 154: 20528.679970675, 155: 26024.766536326548, 156: 30496.24704581242, 157: 28046.649351102384, 158: 25399.94415735918, 159: 20595.17017135877, 160: 39468.08331048932, 161: 29290.87916423351, 162: 28502.20177011403, 163: 24888.202308912234, 164: 29202.325747158888, 165: 13693.033614361344, 166: 20720.09618135224, 167: 18421.23106476141, 168: 20788.217757177914, 169: 29260.552531836394, 170: 20912.601306358192, 171: 19943.879729682973, 172: 17993.95317651515, 173: 14062.370225231754, 174: 15714.498474642487, 175: 15912.050296242363, 176: 14048.319345481621, 177: 16512.169227270308, 178: 17282.06801988459, 179: 17575.048963969115, 180: 16685.21831279209, 181: 13464.728810697276, 182: 16295.448347591053, 183: 24762.619669883697, 184: 23059.0020733228, 185: 22640.618592991468, 186: 23927.362348639996, 187: 22508.942008175807, 188: 14187.652322708753, 189: 28245.31625751226, 190: 31242.155384685557, 191: 29060.896486903264, 192: 26854.253599506836, 193: 26238.317813925234, 194: 22565.810622124733, 195: 29106.879270356516, 196: 23483.504097315865, 197: 24607.864239808532, 198: 24639.003547513457, 199: 26271.69256294266, 200: 22143.073549741483, 201: 28342.610088096902, 202: 22635.680236469565, 203: 23711.296278169142, 204: 27142.419304714997, 205: 24403.447210122176, 206: 26439.978199779256, 207: 27173.07659994836, 208: 27780.37313974834, 209: 25139.332397383925, 210: 33224.69493807576, 211: 25489.737313329817, 212: 32338.30244995477, 213: 23637.52435328698, 214: 28559.761886604552, 215: 29841.76793587395, 216: 23567.833757156157, 217: 40653.4750697493, 218: 24455.87422232558, 219: 26210.496903915235, 220: 28575.477485674674, 221: 20297.42277465327, 222: 20145.095361516047, 223: 24406.940502755337, 224: 22819.828357821563, 225: 18717.27236944985, 226: 22850.757816600326, 227: 21966.28801148164, 228: 23296.615720717833, 229: 24769.033118919975, 230: 24044.118367625775, 231: 23488.875977374486, 232: 23296.165216628367, 233: 17194.01783031573, 234: 16766.66540736933, 235: 18812.022226691122, 236: 22171.88057813901, 237: 17328.77349584004, 238: 20941.242120338327, 239: 17744.190328069646, 240: 19471.487886497132, 241: 16483.77986572396, 242: 20115.029409467803, 243: 20352.1550690194, 244: 15903.178694120923, 245: 27415.03106080991, 246: 26297.51208577107, 247: 18453.29342904773, 248: 19382.145499497583, 249: 19339.03824146095, 250: 23190.4999751218, 251: 15700.888656367608, 252: 20153.87398483449, 253: 16848.657587740836, 254: 18498.679084997515, 255: 18742.677347271874, 256: 22619.801084423416, 257: 16246.730172148093, 258: 21801.044606489122, 259: 19325.058411535818, 260: 16298.045478455688, 265: 29766.540974155312, 266: 31561.72866037715, 268: 28731.22787042971, 272: 30288.534919853788, 273: 23815.69305282208, 274: 22183.599702112784, 275: 23439.14985433139, 276: 23244.775424419608, 277: 23297.89586517179, 278: 16955.368420453775, 279: 22381.86244701346, 280: 19466.986473784484, 281: 18357.668970117353, 282: 12331.65694840796, 283: 30826.488281209666, 284: 23894.829436553544, 287: 23731.185099401697, 288: 29335.29694165673, 289: 25873.881559495127, 290: 22282.089319528015, 291: 21525.1163748125, 292: 20940.411263688995, 293: 22765.265994663332, 294: 24746.79192257281, 295: 23361.445481717932, 296: 21520.942370272955, 297: 20456.55096620768, 298: 24418.202325127666, 299: 23646.360574158683, 300: 18304.983253970342, 301: 19602.847356348884, 302: 19214.73180123234, 303: 23936.3674678399, 304: 19191.933564060302, 305: 26401.516096667176, 306: 21682.568451027273, 307: 24805.875082264254, 308: 22468.20236773346, 309: 20973.227060852845, 310: 24292.668521775755, 311: 18046.966595355832, 312: 28037.32639110684, 313: 25869.768854164126, 314: 22029.10093546411, 315: 26058.38287749214, 316: 29677.467394867024, 317: 23352.50432082077, 318: 31292.953109260692, 319: 16465.321215812965, 320: 14094.079758272093, 321: 8975.362044454881, 322: 7793.144599338063, 323: 13806.922843171096, 324: 13042.616987003903, 325: 15150.16995904233, 326: 10772.408240689181, 327: 21581.88071684609, 328: 10317.925109930624, 329: 13926.78200293413, 330: 13635.825137905886, 331: 12339.062804521549, 332: 15089.068137175109, 333: 11087.004446589192, 334: 10966.836157694188, 335: 14191.583919614503, 336: 18086.559944732868, 337: 13405.667839513142, 338: 13147.29930036477, 339: 14977.212486172086, 340: 10661.043067925053, 341: 6715.14386391795, 342: 13151.192676035093, 343: 13261.86197857903, 344: 12222.107840828448, 345: 12055.906583392838, 346: 11231.706494945567, 347: 17323.58078429637, 348: 19994.208643582275, 349: 15187.168318770562, 350: 22479.66546934539, 351: 18373.44942097199, 352: 18254.960047918466, 353: 18810.061367035745, 354: 22008.69628575658, 355: 21492.81451291751, 356: 18275.536948717257, 357: 19341.84070884635, 358: 22071.892877965747, 359: 24190.262462908246, 360: 16761.477550494914, 361: 21344.118203320293, 362: 18815.921063553873, 363: 15546.164218908458, 364: 11611.209527362123, 365: 15545.15058691528, 366: 8362.103319193046, 367: 15632.785731034815, 368: 8675.200857338023, 369: 11059.053162271017, 370: 12983.794902132422, 371: 11213.346621113878, 372: 11631.672857531292, 373: 13729.672801668925, 374: 11259.992896641928, 375: 13282.055825489586, 376: 11501.700066404159, 377: 14140.192152205289, 378: 10782.870062054477, 379: 16515.048109685376, 380: 14032.520936575324, 381: 12079.73760516242, 382: 15756.214181522457, 383: 10032.690534521971, 384: 19481.037245215968, 385: 19469.361128336826, 386: 15106.954054424566, 387: 12744.468374891758, 388: 14335.696673335991, 389: 15415.041834145779, 390: 14293.494895495887, 391: 14980.402989276115, 392: 15274.45851159457, 393: 13847.293902041889, 394: 17769.232389024506, 395: 16744.630614136884, 396: 17625.29301161332, 397: 14728.172113401206, 398: 17421.92807238365, 399: 20586.147099932892, 400: 24552.77535744147, 401: 22224.73358919225, 402: 17068.065523402554, 403: 18014.54921134992, 404: 23984.241842359825, 405: 11280.42872820519, 406: 19789.16035574913, 407: 24295.018219274614, 408: 21335.247349990124, 409: 30878.3572822514, 410: 35087.17517860438, 411: 26733.834420757667, 412: 29786.51316411884, 413: 30601.244933150978, 414: 24060.798196773154, 420: 28292.67580912649, 429: 25036.267610251944, 432: 21580.50895270917, 433: 15190.288708488893, 434: 15877.462239873486, 435: 18378.978538873023, 436: 17363.890956676285, 437: 20272.305831214795, 438: 21372.396125501957, 443: 25712.203076302645, 444: 24980.648859607783, 445: 23216.85037759811, 447: 26016.326217112277, 461: 24882.120541639626, 463: 28861.832061695568, 500: 14738.205306554675, 501: 20068.27673239694, 503: 17963.7550555655, 504: 15892.201801811394, 505: 15404.844645873587, 506: 20510.583064735954, 507: 20061.558682469047, 508: 15241.404258028018, 509: 13653.715250904937, 510: 16945.37958443733, 531: 22601.424620670525, 535: 20831.308723650745, 536: 27432.151180170044, 537: 21831.843450051263, 538: 25373.218846771866, 571: 24587.177865687583, 573: 19326.307190443353, 574: 19252.421400435378, 575: 21045.13283556349, 581: 17730.421725375236, 584: 19636.555795671415, 585: 16516.07607975807, 588: 20842.710923761926, 593: 16110.698162871662, 595: 15924.682587949288, 597: 15578.995584131155, 599: 15626.37757328364, 620: 18313.05017282226, 683: 15481.211396129129, 684: 11047.568917838264, 685: 13503.332096227638, 686: 14573.656240925917, 687: 16579.24359412988, 688: 9155.182043777315, 689: 15542.707801543324, 690: 11737.170133540634, 691: 16847.849030484776, 692: 12146.622721741449, 693: 12751.036267519341, 694: 13024.045033322891, 695: 12420.642281791203, 696: 15574.533473813477, 697: 14106.792807772092, 698: 11685.941763121518, 699: 9283.304899596209, 700: 10750.67463215211, 701: 12085.574823539495, 702: 13294.447275719089, 703: 14855.46396387334, 704: 10066.334140187406, 705: 6429.307793871248, 706: 12527.101301124354, 707: 13471.908683181116, 708: 11876.450295255707, 709: 9897.585736560759, 710: 13069.87718466183, 711: 9278.62633808399, 712: 11637.425614093228, 713: 12900.177038077703, 714: 13605.075001733494, 725: 13979.78005592978, 726: 16396.987843382805, 727: 9317.959281073227, 728: 12596.576112416456, 729: 12868.491294026908, 730: 9362.702170095283, 731: 13524.460590128301, 732: 14111.072543404556, 733: 13782.020528054816, 734: 11316.766255499135, 735: 13422.323339879713, 736: 10721.041330011876, 737: 12676.14679215863, 738: 11739.983364568141, 743: 15279.387750772587, 746: 10556.77750994072, 747: 11126.499454317081, 767: 15466.031577533502, 768: 13930.060601116116}\n"
     ]
    }
   ],
   "source": [
    "# 计算travel cost 并存入 dictionary中 （全部存入）\n",
    "TravelCost = {}\n",
    "for key, value in EndCars.items():\n",
    "    TravelCost[value['id']] = value['valueTime'] * (value['finishTs']-value['startTs'])\n",
    "print(len(TravelCost))\n",
    "print(TravelCost)"
   ]
  },
  {
   "cell_type": "code",
   "execution_count": 22,
   "metadata": {},
   "outputs": [
    {
     "name": "stdout",
     "output_type": "stream",
     "text": [
      "<class 'dict'>\n"
     ]
    }
   ],
   "source": [
    "# 将dictionary 转换为 dataframe，利用pandas\n",
    "print(type(TravelCost))\n",
    "TravelCost_frame = pd.DataFrame.from_dict(TravelCost, orient='index', columns = ['TravelCost'])"
   ]
  },
  {
   "cell_type": "code",
   "execution_count": 26,
   "metadata": {},
   "outputs": [
    {
     "name": "stdout",
     "output_type": "stream",
     "text": [
      "     TravelCost\n",
      "1   7860.596198\n",
      "2   9333.164592\n",
      "3  11908.430688\n",
      "4   8481.059128\n",
      "5   8672.791758\n",
      "number of rows:  498\n"
     ]
    }
   ],
   "source": [
    "print(TravelCost_frame.head())\n",
    "print(\"number of rows: \", len(TravelCost_frame))"
   ]
  },
  {
   "cell_type": "markdown",
   "metadata": {},
   "source": [
    "# End of Travel Cost Calculation Explaination"
   ]
  },
  {
   "cell_type": "markdown",
   "metadata": {},
   "source": [
    "# 计算所有数据中的travel cost"
   ]
  },
  {
   "cell_type": "code",
   "execution_count": 27,
   "metadata": {},
   "outputs": [],
   "source": [
    "path = \"D:/ChargingSystem/meso_v2.0/visualization\"\n",
    "uniform_1_f = ['uniform_vol_sim1_False_0_output.json', 'uniform_vol_sim1_False_1_output.json', 'uniform_vol_sim1_False_2_output.json']\n",
    "uniform_2_f = ['uniform_vol_sim2_False_0_output.json', 'uniform_vol_sim2_False_1_output.json', 'uniform_vol_sim2_False_2_output.json', \n",
    "               'uniform_vol_sim2_False_3_output.json', 'uniform_vol_sim2_False_4_output.json',]\n",
    "uniform_3_f = ['uniform_vol_sim3_False_0_output.json', 'uniform_vol_sim3_False_1_output.json', 'uniform_vol_sim3_False_2_output.json',\n",
    "                  'uniform_vol_sim3_False_3_output.json', 'uniform_vol_sim3_False_4_output.json', 'uniform_vol_sim3_False_5_output.json',\n",
    "                  'uniform_vol_sim3_False_6_output.json']\n",
    "\n",
    "uniform_1_t = ['uniform_vol_sim1_True_0_output.json', 'uniform_vol_sim1_True_1_output.json', 'uniform_vol_sim1_True_2_output.json']\n",
    "uniform_2_t = ['uniform_vol_sim2_True_0_output.json', 'uniform_vol_sim2_True_1_output.json', 'uniform_vol_sim2_True_2_output.json']\n",
    "uniform_3_t = ['uniform_vol_sim3_True_0_output.json', 'uniform_vol_sim3_True_1_output.json', 'uniform_vol_sim3_True_2_output.json',\n",
    "               'uniform_vol_sim3_True_3_output.json', 'uniform_vol_sim3_True_4_output.json', 'uniform_vol_sim3_True_5_output.json',\n",
    "               'uniform_vol_sim3_True_6_output.json', 'uniform_vol_sim3_True_7_output.json']\n",
    "\n",
    "normal_1_f=[\"normal_whole_vol_sim1_False_0_output.json\",\"normal_whole_vol_sim1_False_1_output.json\",\"normal_whole_vol_sim1_False_2_output.json\"\n",
    "           ]\n",
    "normal_2_f=[\"normal_whole_vol_sim2_False_0_output.json\", \"normal_whole_vol_sim2_False_1_output.json\", \"normal_whole_vol_sim2_False_2_output.json\",\n",
    "            \"normal_whole_vol_sim2_False_3_output.json\", \"normal_whole_vol_sim2_False_4_output.json\", \"normal_whole_vol_sim2_False_5_output.json\"]\n",
    "normal_3_f=[\"normal_whole_vol_sim3_False_0_output.json\", \"normal_whole_vol_sim3_False_1_output.json\", \"normal_whole_vol_sim3_False_2_output.json\",\n",
    "            \"normal_whole_vol_sim3_False_3_output.json\", \"normal_whole_vol_sim3_False_4_output.json\", \"normal_whole_vol_sim3_False_5_output.json\",\n",
    "            \"normal_whole_vol_sim3_False_6_output.json\"]\n",
    "\n",
    "normal_1_t=[\"normal_whole_vol_sim1_True_0_output.json\", \"normal_whole_vol_sim1_True_1_output.json\", \"normal_whole_vol_sim1_True_2_output.json\"]\n",
    "normal_2_t=[\"normal_whole_vol_sim2_True_0_output.json\", \"normal_whole_vol_sim2_True_1_output.json\", \"normal_whole_vol_sim2_True_2_output.json\",\n",
    "            \"normal_whole_vol_sim2_True_3_output.json\", \"normal_whole_vol_sim2_True_4_output.json\"]\n",
    "normal_3_t=[\"normal_whole_vol_sim3_True_0_output.json\", \"normal_whole_vol_sim3_True_1_output.json\", \"normal_whole_vol_sim3_True_2_output.json\",\n",
    "            \"normal_whole_vol_sim3_True_3_output.json\", \"normal_whole_vol_sim3_True_4_output.json\", \"normal_whole_vol_sim3_True_5_output.json\",\n",
    "            \"normal_whole_vol_sim3_True_6_output.json\"]\n",
    "\n",
    "random_1_f = [\"random_vol_sim1_False_0_output.json\", \"random_vol_sim1_False_1_output.json\", \"random_vol_sim1_False_2_output.json\"]\n",
    "random_2_f = [\"random_vol_sim2_False_0_output.json\", \"random_vol_sim2_False_1_output.json\", \"random_vol_sim2_False_2_output.json\",\n",
    "              \"random_vol_sim2_False_3_output.json\", \"random_vol_sim2_False_4_output.json\"]\n",
    "random_3_f = [\"random_vol_sim3_False_0_output.json\", \"random_vol_sim3_False_1_output.json\", \"random_vol_sim3_False_2_output.json\",\n",
    "              \"random_vol_sim3_False_3_output.json\", \"random_vol_sim3_False_4_output.json\", \"random_vol_sim3_False_5_output.json\",\n",
    "              \"random_vol_sim3_False_6_output.json\"]\n",
    "\n",
    "random_1_t = [\"random_vol_sim1_True_0_output.json\", \"random_vol_sim1_True_1_output.json\", \"random_vol_sim1_True_2_output.json\"]\n",
    "random_2_t = [\"random_vol_sim2_True_0_output.json\", \"random_vol_sim2_True_1_output.json\", \"random_vol_sim2_True_2_output.json\",\n",
    "              \"random_vol_sim2_True_3_output.json\", \"random_vol_sim2_True_4_output.json\"]\n",
    "random_3_t = [\"random_vol_sim3_True_0_output.json\", \"random_vol_sim3_True_1_output.json\", \"random_vol_sim3_True_2_output.json\",\n",
    "              \"random_vol_sim3_True_3_output.json\", \"random_vol_sim3_True_4_output.json\", \"random_vol_sim3_True_5_output.json\",\n",
    "              \"random_vol_sim3_True_6_output.json\"]"
   ]
  },
  {
   "cell_type": "code",
   "execution_count": 28,
   "metadata": {},
   "outputs": [],
   "source": [
    "# uniform sim\n",
    "file_list1 = [path+name for name in uniform_1_f]\n",
    "file_list2 = [path+name for name in uniform_2_f]\n",
    "file_list3 = [path+name for name in uniform_3_f]\n",
    "\n",
    "file_list1_t = [path+name for name in uniform_1_t]\n",
    "file_list2_t = [path+name for name in uniform_2_t]\n",
    "file_list3_t = [path+name for name in uniform_3_t]"
   ]
  },
  {
   "cell_type": "code",
   "execution_count": 29,
   "metadata": {},
   "outputs": [],
   "source": [
    "# normal sim\n",
    "file_list1 = [path+name for name in normal_1_f]\n",
    "file_list2 = [path+name for name in normal_2_f]\n",
    "file_list3 = [path+name for name in normal_3_f]\n",
    "\n",
    "file_list1_t = [path+name for name in normal_1_t]\n",
    "file_list2_t = [path+name for name in normal_2_t]\n",
    "file_list3_t = [path+name for name in normal_3_t]"
   ]
  },
  {
   "cell_type": "code",
   "execution_count": 30,
   "metadata": {},
   "outputs": [],
   "source": [
    "# random sim\n",
    "file_list1 = [path+name for name in random_1_f]\n",
    "file_list2 = [path+name for name in random_2_f]\n",
    "file_list3 = [path+name for name in random_3_f]\n",
    "\n",
    "file_list1_t = [path+name for name in random_1_t]\n",
    "file_list2_t = [path+name for name in random_2_t]\n",
    "file_list3_t = [path+name for name in random_3_t]"
   ]
  },
  {
   "cell_type": "code",
   "execution_count": null,
   "metadata": {},
   "outputs": [],
   "source": [
    "def calculateTT(data):\n",
    "    container = {}\n",
    "    EndCars = data['networks'][-1]['endVehicles']\n",
    "    for network in data['networks']:\n",
    "        container[network['ts']]={'high':0, 'low':0}\n",
    "        for ve in network['vehicles'].keys():\n",
    "            #print('lanetype is:', network['vehicles'][ve]['laneType'])\n",
    "            if network['vehicles'][ve]['laneType']=='1':\n",
    "                container[network['ts']]['high'] +=1\n",
    "            if network['vehicles'][ve]['laneType']=='0':\n",
    "                container[network['ts']]['low'] +=1\n",
    "    return container"
   ]
  },
  {
   "cell_type": "code",
   "execution_count": null,
   "metadata": {},
   "outputs": [],
   "source": []
  },
  {
   "cell_type": "code",
   "execution_count": 8,
   "metadata": {},
   "outputs": [],
   "source": [
    "data_networks = json.dumps(data['networks'], indent = 2)"
   ]
  },
  {
   "cell_type": "code",
   "execution_count": 114,
   "metadata": {},
   "outputs": [
    {
     "name": "stdout",
     "output_type": "stream",
     "text": [
      "[\n",
      "  {\n",
      "    \"ts\": 1546293600.0,\n",
      "    \"lanes\": {\n",
      "      \"1\": {\n",
      "        \"id\": \"1\",\n",
      "        \"type\": \"0\",\n",
      "        \"link_id\": \"1\",\n",
      "        \"freeSpeed\": 40,\n",
      "        \"freeTravelTime\": \"0.1\",\n",
      "        \"fixedCharge\": \"0.1\",\n",
      "        \"speed\": 40.0,\n",
      "        \"countPcu\": 0,\n",
      "        \"density\": 0.0,\n",
      "        \"travelTime\": 243.0,\n",
      "        \"charge\": 0.1\n",
      "      },\n",
      "      \"2\": {\n",
      "        \"id\": \"2\",\n",
      "        \"type\": \"0\",\n",
      "        \"link_id\": \"2\",\n",
      "        \"freeSpeed\": 40,\n",
      "        \"freeTravelTime\": \"0.1\",\n",
      "        \"fixedCharge\": \"0.1\",\n",
      "        \"speed\": 40.0,\n",
      "        \"countPcu\": 0,\n",
      "        \"density\": 0.0,\n",
      "        \"travelTime\": 63.0,\n",
      "        \"charge\": 0.1\n",
      "      },\n",
      "      \"3\": {\n",
      "        \"id\": \"3\",\n",
      "        \"type\": \"0\",\n",
      "        \"link_id\": \"3\",\n",
      "        \"freeSpeed\": 40,\n",
      "        \"freeTravelTime\": \"0.1\",\n",
      "        \"fixedCharge\": \"0.1\",\n",
      "        \"speed\": 40.0,\n",
      "        \"countPcu\": 0,\n",
      "        \"density\": 0.0,\n",
      "        \"travelTime\": 243.0,\n",
      "        \"charge\": 0.1\n",
      "      },\n",
      "      \"4\": {\n",
      "        \"id\": \"4\",\n",
      "        \"type\": \"0\",\n",
      "        \"link_id\":\n"
     ]
    }
   ],
   "source": [
    "# 因为json数据的格式为str，所以要读取前头的数据，只能用string的方式来读取。\n",
    "print(data_networks[:1000])"
   ]
  },
  {
   "cell_type": "code",
   "execution_count": 10,
   "metadata": {},
   "outputs": [],
   "source": [
    "data_networks_dic = json.loads(data_networks)"
   ]
  },
  {
   "cell_type": "code",
   "execution_count": 119,
   "metadata": {},
   "outputs": [
    {
     "data": {
      "text/plain": [
       "list"
      ]
     },
     "execution_count": 119,
     "metadata": {},
     "output_type": "execute_result"
    }
   ],
   "source": [
    "type(data_networks_dic)"
   ]
  },
  {
   "cell_type": "code",
   "execution_count": 80,
   "metadata": {},
   "outputs": [
    {
     "name": "stdout",
     "output_type": "stream",
     "text": [
      "<class 'dict'>\n",
      "1 => {'id': '1', 'type': '2', 'x': 500.0, 'y': 5100.0}\n",
      "2 => {'id': '2', 'type': '2', 'x': 3200.0, 'y': 5100.0}\n",
      "3 => {'id': '3', 'type': '2', 'x': 500.0, 'y': 4400.0}\n",
      "4 => {'id': '4', 'type': '2', 'x': 1300.0, 'y': 4400.0}\n",
      "5 => {'id': '5', 'type': '2', 'x': 2200.0, 'y': 4400.0}\n",
      "6 => {'id': '6', 'type': '2', 'x': 3200.0, 'y': 4400.0}\n",
      "7 => {'id': '7', 'type': '2', 'x': 4200.0, 'y': 3800.0}\n",
      "8 => {'id': '8', 'type': '2', 'x': 3200.0, 'y': 3800.0}\n",
      "9 => {'id': '9', 'type': '2', 'x': 2200.0, 'y': 3800.0}\n",
      "10 => {'id': '10', 'type': '2', 'x': 2200.0, 'y': 3200.0}\n",
      "11 => {'id': '11', 'type': '2', 'x': 1300.0, 'y': 3200.0}\n",
      "12 => {'id': '12', 'type': '2', 'x': 500.0, 'y': 3200.0}\n",
      "13 => {'id': '13', 'type': '2', 'x': 500.0, 'y': 500.0}\n",
      "14 => {'id': '14', 'type': '2', 'x': 1300.0, 'y': 1900.0}\n",
      "15 => {'id': '15', 'type': '2', 'x': 2200.0, 'y': 1900.0}\n",
      "16 => {'id': '16', 'type': '2', 'x': 3200.0, 'y': 3200.0}\n",
      "17 => {'id': '17', 'type': '2', 'x': 3200.0, 'y': 2600.0}\n",
      "18 => {'id': '18', 'type': '2', 'x': 4200.0, 'y': 3200.0}\n",
      "19 => {'id': '19', 'type': '2', 'x': 3200.0, 'y': 1900.0}\n",
      "20 => {'id': '20', 'type': '2', 'x': 3200.0, 'y': 500.0}\n",
      "21 => {'id': '21', 'type': '2', 'x': 2200.0, 'y': 500.0}\n",
      "22 => {'id': '22', 'type': '2', 'x': 2200.0, 'y': 1300.0}\n",
      "23 => {'id': '23', 'type': '2', 'x': 1300.0, 'y': 1300.0}\n",
      "24 => {'id': '24', 'type': '2', 'x': 1300.0, 'y': 500.0}\n",
      "1 2 500.0\n",
      "2 2 3200.0\n",
      "3 2 500.0\n",
      "4 2 1300.0\n",
      "5 2 2200.0\n",
      "6 2 3200.0\n",
      "7 2 4200.0\n",
      "8 2 3200.0\n",
      "9 2 2200.0\n",
      "10 2 2200.0\n",
      "11 2 1300.0\n",
      "12 2 500.0\n",
      "13 2 500.0\n",
      "14 2 1300.0\n",
      "15 2 2200.0\n",
      "16 2 3200.0\n",
      "17 2 3200.0\n",
      "18 2 4200.0\n",
      "19 2 3200.0\n",
      "20 2 3200.0\n",
      "21 2 2200.0\n",
      "22 2 2200.0\n",
      "23 2 1300.0\n",
      "24 2 1300.0\n"
     ]
    }
   ],
   "source": [
    "# print the first 10 values in the node list\n",
    "data_nodes_dic = data['nodes']\n",
    "data_nodes_json = json.dumps(data_nodes_dic, indent = 2)\n",
    "#print(type(data_nodes_dic))\n",
    "#print(type(data_nodes_json))\n",
    "#print('python object: ',data_nodes_dic)\n",
    "#print('json file:', data_nodes_json)\n",
    "#print(data_nodes_dic.keys())\n",
    "for key,val in data_nodes_dic.items():\n",
    "    print(key, \"=>\", val)\n",
    "for node in data_nodes_dic:\n",
    "    nodes = data_nodes_dic[node]\n",
    "    print(nodes['id'],nodes['type'],nodes['x'])"
   ]
  },
  {
   "cell_type": "code",
   "execution_count": 76,
   "metadata": {},
   "outputs": [
    {
     "data": {
      "text/plain": [
       "{'id': '24', 'type': '2', 'x': 1300.0, 'y': 500.0}"
      ]
     },
     "execution_count": 76,
     "metadata": {},
     "output_type": "execute_result"
    }
   ],
   "source": [
    "data_nodes_dic[]"
   ]
  }
 ],
 "metadata": {
  "kernelspec": {
   "display_name": "Python 3",
   "language": "python",
   "name": "python3"
  },
  "language_info": {
   "codemirror_mode": {
    "name": "ipython",
    "version": 3
   },
   "file_extension": ".py",
   "mimetype": "text/x-python",
   "name": "python",
   "nbconvert_exporter": "python",
   "pygments_lexer": "ipython3",
   "version": "3.7.3"
  }
 },
 "nbformat": 4,
 "nbformat_minor": 2
}
